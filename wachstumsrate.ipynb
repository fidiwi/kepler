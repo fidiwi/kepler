{
 "cells": [
  {
   "cell_type": "markdown",
   "metadata": {},
   "source": [
    "Notebook zur Ermittlung des Zusammenhangs aus Standardabweichung und Wachstumsrate.\n",
    "Geforderte Eingabeparameter: \n",
    "    -Ordnerpfad mit beinhalteten Datensatzdateien\n",
    "    -Name der Ausgabedatei\n",
    "    -Anzahl der Windows\n",
    "    -Threshold für Lücke\n",
    "    -Threshold für Überschuss\n"
   ]
  },
  {
   "cell_type": "code",
   "execution_count": 26,
   "metadata": {},
   "outputs": [
    {
     "name": "stdout",
     "output_type": "stream",
     "text": [
      "Es wird der Ordner \"Probedaten/Beispiesamples/Mail_lutz_3/Luecken/5_percent/\" mit 250 Windows analysiert. Thresholds für Lücke und Überschuss sind 1.0 und -1.0\n"
     ]
    }
   ],
   "source": [
    "from UltraClass import UltraClass\n",
    "import re\n",
    "import os\n",
    "import xlsxwriter\n",
    "folder = input(\"Ordner: \")\n",
    "targetFile = input(\"Ausgabetabelle (inkl. .xlsx\")\n",
    "growthRatePattern = re.compile('(?<=_)(\\d*?)\\.(\\d*?)(?=_)')\n",
    "try:\n",
    "    anzahlWindows = int(input(\"Anzahl Windows: \"))\n",
    "    thresholdLuecke = float(input(\"Threshold Lücke: \"))\n",
    "    thresholdUeberschuss = float(input(\"Threshold Überschuss: \"))\n",
    "except:\n",
    "    print(\"Ungültige Eingabe\")\n",
    "\n",
    "print(f\"Es wird der Ordner \\\"{folder}\\\" mit {anzahlWindows} Windows analysiert. Thresholds für Lücke und Überschuss sind {thresholdLuecke} und {thresholdUeberschuss}\")"
   ]
  },
  {
   "cell_type": "code",
   "execution_count": 27,
   "metadata": {},
   "outputs": [],
   "source": [
    "results = {}\n",
    "\n",
    "for filename in os.listdir(folder):\n",
    "    if filename.endswith(\".csv\") and growthRatePattern.search(filename):\n",
    "        fileAnalyse = UltraClass(folder+filename, thresholdLuecke, thresholdUeberschuss)\n",
    "        datasetList, readAmountPerSection, readAmountPerSectionDict, readsPerSectionDict, xVectors, yVectors, xAxisDiagram = fileAnalyse.readFile(anzahlWindows)\n",
    "        degreeDiffList, xList, avg, standardAbw, relEaList = fileAnalyse.calcWinkel(datasetList, anzahlWindows)\n",
    "        gapBereiche = fileAnalyse.determineGaps(relEaList, datasetList)\n",
    "        linReg1, linReg2, filledGaps, filledEllipse = fileAnalyse.fillGaps(gapBereiche, readAmountPerSection, xAxisDiagram)\n",
    "        windowAbwDict, betterDataFileName = fileAnalyse.getWindowAbweichung(filledGaps[0], filledGaps[1], readAmountPerSectionDict, readsPerSectionDict, anzahlWindows)\n",
    "\n",
    "        reAnalyse = UltraClass(betterDataFileName, thresholdLuecke, thresholdUeberschuss)\n",
    "        reDatasetList = reAnalyse.readFile(anzahlWindows)\n",
    "        reDegreeDiffList, reXList, reAvg, reStandardAbw, reRelEaList = reAnalyse.calcWinkel(reDatasetList[0], anzahlWindows)\n",
    "\n",
    "        try:\n",
    "            growthRate = float(growthRatePattern.search(filename).group())\n",
    "        except:\n",
    "            print(\"E: Regex-Match fehlgeschlagen\")\n",
    "        results[filename] = {\"growth\": growthRate, \"standardAbw\": standardAbw}\n",
    "    else:\n",
    "        print(\"E: Nicht alle Dateien sind CSV-Dateien oder besitzen den richtigen Dateinamen\")\n",
    "\n",
    "\n",
    "workbook = xlsxwriter.Workbook(\"Output/Growth/\"+targetFile)\n",
    "worksheet = workbook.add_worksheet(\"Data\")\n",
    "\n",
    "row = 0\n",
    "\n",
    "for datasetName in results.keys():\n",
    "    worksheet.write(row, 0, datasetName)\n",
    "    worksheet.write(row, 1, results[datasetName][\"growth\"])\n",
    "    worksheet.write(row, 2, results[datasetName][\"standardAbw\"])\n",
    "    worksheet.write(row, 3, anzahlWindows)\n",
    "    row += 1\n",
    "workbook.close()"
   ]
  }
 ],
 "metadata": {
  "interpreter": {
   "hash": "916dbcbb3f70747c44a77c7bcd40155683ae19c65e1c03b4aa3499c5328201f1"
  },
  "kernelspec": {
   "display_name": "Python 3.8.10 64-bit",
   "language": "python",
   "name": "python3"
  },
  "language_info": {
   "codemirror_mode": {
    "name": "ipython",
    "version": 3
   },
   "file_extension": ".py",
   "mimetype": "text/x-python",
   "name": "python",
   "nbconvert_exporter": "python",
   "pygments_lexer": "ipython3",
   "version": "3.8.10"
  },
  "orig_nbformat": 4
 },
 "nbformat": 4,
 "nbformat_minor": 2
}

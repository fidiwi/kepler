{
 "cells": [
  {
   "cell_type": "markdown",
   "metadata": {},
   "source": [
    "Notebook zur Ermittlung des Zusammenhangs aus Standardabweichung und Wachstumsrate.\n",
    "Geforderte Eingabeparameter: \n",
    "    -Ordnerpfad mit beinhalteten Datensatzdateien\n",
    "    -Name der Ausgabedatei\n",
    "    -Anzahl der Windows\n",
    "    -Threshold für Lücke\n",
    "    -Threshold für Überschuss\n"
   ]
  },
  {
   "cell_type": "code",
   "execution_count": 16,
   "metadata": {},
   "outputs": [
    {
     "name": "stdout",
     "output_type": "stream",
     "text": [
      "Es wird der Ordner \"Probedaten/Beispiesamples/Mail_lutz_3/Luecken/5_percent/\" mit 80 Reads/Window analysiert. Thresholds für Lücke und Überschuss sind 1.0 und -1.0\n"
     ]
    }
   ],
   "source": [
    "from UltraClass import UltraClass\n",
    "import re\n",
    "import os\n",
    "import xlsxwriter\n",
    "folder = input(\"Ordner: \")\n",
    "targetFile = input(\"Ausgabetabelle (inkl. .xlsx\")\n",
    "growthRatePattern = re.compile('(?<=_)(\\d*?)\\.(\\d*?)(?=_)')\n",
    "try:\n",
    "    readsPerWindow = int(input(\"Reads pro Windows: \"))\n",
    "    thresholdLuecke = float(input(\"Threshold Lücke: \"))\n",
    "    thresholdUeberschuss = float(input(\"Threshold Überschuss: \"))\n",
    "except:\n",
    "    print(\"Ungültige Eingabe\")\n",
    "\n",
    "print(f\"Es wird der Ordner \\\"{folder}\\\" mit {readsPerWindow} Reads/Window analysiert. Thresholds für Lücke und Überschuss sind {thresholdLuecke} und {thresholdUeberschuss}\")"
   ]
  },
  {
   "cell_type": "code",
   "execution_count": 20,
   "metadata": {},
   "outputs": [
    {
     "ename": "TypeError",
     "evalue": "getWindowAbweichung() takes from 5 to 6 positional arguments but 8 were given",
     "output_type": "error",
     "traceback": [
      "\u001b[0;31m---------------------------------------------------------------------------\u001b[0m",
      "\u001b[0;31mTypeError\u001b[0m                                 Traceback (most recent call last)",
      "\u001b[0;32m/tmp/ipykernel_9469/2225103584.py\u001b[0m in \u001b[0;36m<module>\u001b[0;34m\u001b[0m\n\u001b[1;32m     19\u001b[0m             \u001b[0mreGapBereiche\u001b[0m \u001b[0;34m=\u001b[0m \u001b[0mreAnalyse\u001b[0m\u001b[0;34m.\u001b[0m\u001b[0mdetermineGaps\u001b[0m\u001b[0;34m(\u001b[0m\u001b[0mreRelEaList\u001b[0m\u001b[0;34m,\u001b[0m \u001b[0mreDatasetList\u001b[0m\u001b[0;34m[\u001b[0m\u001b[0;36m0\u001b[0m\u001b[0;34m]\u001b[0m\u001b[0;34m)\u001b[0m\u001b[0;34m\u001b[0m\u001b[0;34m\u001b[0m\u001b[0m\n\u001b[1;32m     20\u001b[0m             \u001b[0mreLinReg1\u001b[0m\u001b[0;34m,\u001b[0m \u001b[0mreLinReg2\u001b[0m\u001b[0;34m,\u001b[0m \u001b[0mreFilledGaps\u001b[0m\u001b[0;34m,\u001b[0m \u001b[0mreFilledEllipse\u001b[0m \u001b[0;34m=\u001b[0m \u001b[0mreAnalyse\u001b[0m\u001b[0;34m.\u001b[0m\u001b[0mfillGaps\u001b[0m\u001b[0;34m(\u001b[0m\u001b[0mreGapBereiche\u001b[0m\u001b[0;34m,\u001b[0m \u001b[0mreDatasetList\u001b[0m\u001b[0;34m[\u001b[0m\u001b[0;36m1\u001b[0m\u001b[0;34m]\u001b[0m\u001b[0;34m,\u001b[0m \u001b[0mreDatasetList\u001b[0m\u001b[0;34m[\u001b[0m\u001b[0;36m6\u001b[0m\u001b[0;34m]\u001b[0m\u001b[0;34m)\u001b[0m\u001b[0;34m\u001b[0m\u001b[0;34m\u001b[0m\u001b[0m\n\u001b[0;32m---> 21\u001b[0;31m             \u001b[0mreWindowAbw\u001b[0m\u001b[0;34m,\u001b[0m \u001b[0mbetterDataFileName\u001b[0m \u001b[0;34m=\u001b[0m \u001b[0mreAnalyse\u001b[0m\u001b[0;34m.\u001b[0m\u001b[0mgetWindowAbweichung\u001b[0m\u001b[0;34m(\u001b[0m\u001b[0mreFilledGaps\u001b[0m\u001b[0;34m[\u001b[0m\u001b[0;36m0\u001b[0m\u001b[0;34m]\u001b[0m\u001b[0;34m,\u001b[0m \u001b[0mreFilledGaps\u001b[0m\u001b[0;34m[\u001b[0m\u001b[0;36m1\u001b[0m\u001b[0;34m]\u001b[0m\u001b[0;34m,\u001b[0m \u001b[0mreDatasetList\u001b[0m\u001b[0;34m[\u001b[0m\u001b[0;36m2\u001b[0m\u001b[0;34m]\u001b[0m\u001b[0;34m,\u001b[0m \u001b[0mreDatasetList\u001b[0m\u001b[0;34m[\u001b[0m\u001b[0;36m3\u001b[0m\u001b[0;34m]\u001b[0m\u001b[0;34m,\u001b[0m \u001b[0;32mTrue\u001b[0m\u001b[0;34m,\u001b[0m \u001b[0;36m4\u001b[0m\u001b[0;34m,\u001b[0m \u001b[0mfilename\u001b[0m\u001b[0;34m)\u001b[0m\u001b[0;34m\u001b[0m\u001b[0;34m\u001b[0m\u001b[0m\n\u001b[0m\u001b[1;32m     22\u001b[0m \u001b[0;34m\u001b[0m\u001b[0m\n\u001b[1;32m     23\u001b[0m             \u001b[0;32mif\u001b[0m \u001b[0mlen\u001b[0m\u001b[0;34m(\u001b[0m\u001b[0mgapBereiche\u001b[0m\u001b[0;34m)\u001b[0m \u001b[0;34m==\u001b[0m \u001b[0;36m0\u001b[0m\u001b[0;34m:\u001b[0m\u001b[0;34m\u001b[0m\u001b[0;34m\u001b[0m\u001b[0m\n",
      "\u001b[0;31mTypeError\u001b[0m: getWindowAbweichung() takes from 5 to 6 positional arguments but 8 were given"
     ]
    }
   ],
   "source": [
    "results = {}\n",
    "\n",
    "for filename in os.listdir(folder):\n",
    "    if filename.endswith(\".csv\") and growthRatePattern.search(filename):\n",
    "        fileAnalyse = UltraClass(folder+filename, thresholdLuecke, thresholdUeberschuss, readsPerWindow)\n",
    "        datasetList, readAmountPerSection, readAmountPerSectionDict, readsPerSectionDict, xVectors, yVectors, xAxisDiagram = fileAnalyse.readFile()\n",
    "        degreeDiffList, xList, avg, standardAbw, relEaList = fileAnalyse.calcWinkel(datasetList)\n",
    "        gapBereiche = fileAnalyse.determineGaps(relEaList, datasetList)\n",
    "        linReg1, linReg2, filledGaps, filledEllipse = fileAnalyse.fillGaps(gapBereiche, readAmountPerSection, xAxisDiagram)\n",
    "        windowAbwDict, betterDataFileName = fileAnalyse.getWindowAbweichung(filledGaps[0], filledGaps[1], readAmountPerSectionDict, readsPerSectionDict)\n",
    "\n",
    "        gapsFound = True\n",
    "        timesReanalyzed = 0\n",
    "        while gapsFound:\n",
    "            timesReanalyzed += 1\n",
    "            reAnalyse = UltraClass(betterDataFileName, thresholdLuecke, thresholdUeberschuss, readsPerWindow)\n",
    "            reDatasetList = reAnalyse.readFile()\n",
    "            reDegreeDiffList, reXList, reAvg, reStandardAbw, reRelEaList = reAnalyse.calcWinkel(reDatasetList[0])\n",
    "            reGapBereiche = reAnalyse.determineGaps(reRelEaList, reDatasetList[0])\n",
    "            reLinReg1, reLinReg2, reFilledGaps, reFilledEllipse = reAnalyse.fillGaps(reGapBereiche, reDatasetList[1], reDatasetList[6])\n",
    "            reWindowAbw, betterDataFileName = reAnalyse.getWindowAbweichung(reFilledGaps[0], reFilledGaps[1], reDatasetList[2], reDatasetList[3], True, 4, filename)\n",
    "            \n",
    "            if len(gapBereiche) == 0:\n",
    "                gapsFound = False\n",
    "\n",
    "        try:\n",
    "            growthRate = float(growthRatePattern.search(filename).group())\n",
    "        except:\n",
    "            print(\"E: Regex-Match fehlgeschlagen\")\n",
    "        results[filename] = {\"growth\": growthRate, \"standardAbw\": reStandardAbw, \"anzahlWindows\" : reAnalyse.getAnzahlWindows()}\n",
    "    else:\n",
    "        print(\"E: Nicht alle Dateien sind CSV-Dateien oder besitzen den richtigen Dateinamen\")\n",
    "\n",
    "\n",
    "workbook = xlsxwriter.Workbook(\"Output/Growth/\"+targetFile)\n",
    "worksheet = workbook.add_worksheet(\"Data\")\n",
    "\n",
    "row = 0\n",
    "\n",
    "for datasetName in results.keys():\n",
    "    worksheet.write(row, 0, datasetName)\n",
    "    worksheet.write(row, 1, results[datasetName][\"growth\"])\n",
    "    worksheet.write(row, 2, results[datasetName][\"standardAbw\"])\n",
    "    worksheet.write(row, 3, results[datasetName][\"anzahlWindows\"])\n",
    "    worksheet.write(row, 4, readsPerWindow)\n",
    "    row += 1\n",
    "workbook.close()"
   ]
  }
 ],
 "metadata": {
  "interpreter": {
   "hash": "916dbcbb3f70747c44a77c7bcd40155683ae19c65e1c03b4aa3499c5328201f1"
  },
  "kernelspec": {
   "display_name": "Python 3.8.10 64-bit",
   "language": "python",
   "name": "python3"
  },
  "language_info": {
   "codemirror_mode": {
    "name": "ipython",
    "version": 3
   },
   "file_extension": ".py",
   "mimetype": "text/x-python",
   "name": "python",
   "nbconvert_exporter": "python",
   "pygments_lexer": "ipython3",
   "version": "3.8.10"
  },
  "orig_nbformat": 4
 },
 "nbformat": 4,
 "nbformat_minor": 2
}
